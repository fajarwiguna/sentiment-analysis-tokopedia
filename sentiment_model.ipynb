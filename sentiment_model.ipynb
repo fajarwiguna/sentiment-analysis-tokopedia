{
 "cells": [
  {
   "cell_type": "markdown",
   "id": "d3fa2781",
   "metadata": {},
   "source": [
    "## Import Library"
   ]
  },
  {
   "cell_type": "code",
   "execution_count": null,
   "id": "cc2d2806",
   "metadata": {},
   "outputs": [],
   "source": [
    "import pandas as pd\n",
    "import numpy as np\n",
    "import re\n",
    "import nltk\n",
    "from nltk.corpus import stopwords\n",
    "\n",
    "from sklearn.feature_extraction.text import TfidfVectorizer\n",
    "from sklearn.model_selection import train_test_split\n",
    "from sklearn.svm import LinearSVC\n",
    "from sklearn.metrics import classification_report, accuracy_score\n",
    "from sklearn.ensemble import RandomForestClassifier\n",
    "from sklearn.preprocessing import LabelEncoder\n",
    "\n",
    "from gensim.models import Word2Vec\n",
    "\n",
    "import tensorflow as tf\n",
    "from tensorflow.keras.models import Sequential\n",
    "from tensorflow.keras.layers import Embedding, LSTM, Dense, Dropout\n",
    "from tensorflow.keras.preprocessing.sequence import pad_sequences\n",
    "from tensorflow.keras.callbacks import EarlyStopping\n"
   ]
  },
  {
   "cell_type": "code",
   "execution_count": 103,
   "id": "1b8f1648",
   "metadata": {},
   "outputs": [
    {
     "name": "stderr",
     "output_type": "stream",
     "text": [
      "[nltk_data] Downloading package stopwords to\n",
      "[nltk_data]     C:\\Users\\ADVAN\\AppData\\Roaming\\nltk_data...\n",
      "[nltk_data]   Package stopwords is already up-to-date!\n"
     ]
    },
    {
     "data": {
      "text/plain": [
       "True"
      ]
     },
     "execution_count": 103,
     "metadata": {},
     "output_type": "execute_result"
    }
   ],
   "source": [
    "nltk.download('stopwords')"
   ]
  },
  {
   "cell_type": "markdown",
   "id": "82ed2dd2",
   "metadata": {},
   "source": [
    "## Eksplorasi Dataset"
   ]
  },
  {
   "cell_type": "code",
   "execution_count": 104,
   "id": "61c7092a",
   "metadata": {},
   "outputs": [
    {
     "name": "stdout",
     "output_type": "stream",
     "text": [
      "                                              review  rating\n",
      "0  kasih bintang 2 dulu, udah ga re amah buat hp ...       2\n",
      "1  paket lambat sekali pas mau beli estimasi samp...       1\n",
      "2  banyak sekali produk yang non cod saya takut b...       4\n",
      "3                                              goood       5\n",
      "4                      goood.Mudahan Lebih turboo 🏀🚀       5\n"
     ]
    }
   ],
   "source": [
    "# Baca data\n",
    "df = pd.read_csv('data_tokopedia_reviews.csv')\n",
    "\n",
    "print(df.head())"
   ]
  },
  {
   "cell_type": "code",
   "execution_count": 105,
   "id": "4d9dcab3",
   "metadata": {},
   "outputs": [
    {
     "name": "stdout",
     "output_type": "stream",
     "text": [
      "<class 'pandas.core.frame.DataFrame'>\n",
      "RangeIndex: 10000 entries, 0 to 9999\n",
      "Data columns (total 2 columns):\n",
      " #   Column  Non-Null Count  Dtype \n",
      "---  ------  --------------  ----- \n",
      " 0   review  10000 non-null  object\n",
      " 1   rating  10000 non-null  int64 \n",
      "dtypes: int64(1), object(1)\n",
      "memory usage: 156.4+ KB\n",
      "None\n"
     ]
    }
   ],
   "source": [
    "print(df.info())"
   ]
  },
  {
   "cell_type": "code",
   "execution_count": 106,
   "id": "9c02cabd",
   "metadata": {},
   "outputs": [
    {
     "name": "stdout",
     "output_type": "stream",
     "text": [
      "\n",
      "Jumlah Missing Value per Kolom:\n",
      "review    0\n",
      "rating    0\n",
      "dtype: int64\n"
     ]
    }
   ],
   "source": [
    "# Cek jumlah missing value per kolom\n",
    "print(\"\\nJumlah Missing Value per Kolom:\")\n",
    "print(df.isnull().sum())\n"
   ]
  },
  {
   "cell_type": "code",
   "execution_count": 107,
   "id": "81a13503",
   "metadata": {},
   "outputs": [
    {
     "name": "stdout",
     "output_type": "stream",
     "text": [
      "\n",
      "Jumlah total data: 10000\n"
     ]
    }
   ],
   "source": [
    "# Jumlah data total\n",
    "print(f\"\\nJumlah total data: {len(df)}\")"
   ]
  },
  {
   "cell_type": "code",
   "execution_count": 108,
   "id": "6ac77072",
   "metadata": {},
   "outputs": [
    {
     "name": "stdout",
     "output_type": "stream",
     "text": [
      "\n",
      "Kolom yang tersedia:\n",
      "Index(['review', 'rating'], dtype='object')\n"
     ]
    }
   ],
   "source": [
    "# Cek apakah ada kolom label\n",
    "print(\"\\nKolom yang tersedia:\")\n",
    "print(df.columns)"
   ]
  },
  {
   "cell_type": "markdown",
   "id": "93e85bba",
   "metadata": {},
   "source": [
    "## Labeling Sentimen Otomatis"
   ]
  },
  {
   "cell_type": "code",
   "execution_count": 109,
   "id": "79bc3243",
   "metadata": {},
   "outputs": [
    {
     "name": "stdout",
     "output_type": "stream",
     "text": [
      "Distribusi Sentimen:\n",
      "sentiment\n",
      "positif    4990\n",
      "negatif    4450\n",
      "netral      560\n",
      "Name: count, dtype: int64\n"
     ]
    }
   ],
   "source": [
    "# Mapping rating ke sentimen\n",
    "def rating_to_sentiment(rating):\n",
    "    if rating <= 2:\n",
    "        return 'negatif'\n",
    "    elif rating == 3:\n",
    "        return 'netral'\n",
    "    else:\n",
    "        return 'positif'\n",
    "\n",
    "# Buat kolom label\n",
    "df['sentiment'] = df['rating'].apply(rating_to_sentiment)\n",
    "\n",
    "# Cek distribusi label\n",
    "print(\"Distribusi Sentimen:\")\n",
    "print(df['sentiment'].value_counts())\n"
   ]
  },
  {
   "cell_type": "markdown",
   "id": "178a71a9",
   "metadata": {},
   "source": [
    "## Preprocessing Teks"
   ]
  },
  {
   "cell_type": "code",
   "execution_count": 130,
   "id": "5cefc2f8",
   "metadata": {},
   "outputs": [
    {
     "name": "stdout",
     "output_type": "stream",
     "text": [
      "                                              review  \\\n",
      "0  kasih bintang 2 dulu, udah ga re amah buat hp ...   \n",
      "1  paket lambat sekali pas mau beli estimasi samp...   \n",
      "2  banyak sekali produk yang non cod saya takut b...   \n",
      "3                                              goood   \n",
      "4                      goood.Mudahan Lebih turboo 🏀🚀   \n",
      "\n",
      "                                        clean_review  \n",
      "0  kasih bintang udah ga re amah hp kentang nge f...  \n",
      "1  paket lambat pas beli estimasi sampainya besok...  \n",
      "2     produk non cod takut barang nya sesuai pesanan  \n",
      "3                                              goood  \n",
      "4                                gooodmudahan turboo  \n"
     ]
    },
    {
     "name": "stderr",
     "output_type": "stream",
     "text": [
      "[nltk_data] Downloading package stopwords to\n",
      "[nltk_data]     C:\\Users\\ADVAN\\AppData\\Roaming\\nltk_data...\n",
      "[nltk_data]   Package stopwords is already up-to-date!\n"
     ]
    }
   ],
   "source": [
    "nltk.download('stopwords')\n",
    "stop_words = set(stopwords.words('indonesian'))\n",
    "\n",
    "def clean_text(text):\n",
    "    # Lowercase\n",
    "    text = text.lower()\n",
    "    # Hapus URL\n",
    "    text = re.sub(r'http\\S+|www\\S+', '', text)\n",
    "    # Hapus angka dan tanda baca\n",
    "    text = re.sub(r'[^a-z\\s]', '', text)\n",
    "    # Tokenisasi dan hapus stopword\n",
    "    tokens = text.split()\n",
    "    tokens = [t for t in tokens if t not in stop_words]\n",
    "    return ' '.join(tokens)\n",
    "\n",
    "# Terapkan pembersihan teks\n",
    "df['clean_review'] = df['review'].astype(str).apply(clean_text)\n",
    "\n",
    "# Cek hasil\n",
    "print(df[['review', 'clean_review']].head())\n"
   ]
  },
  {
   "cell_type": "markdown",
   "id": "45bd4fac",
   "metadata": {},
   "source": [
    "# Skema 1: TF-IDF + SVM\n",
    "Menggunakan TF-IDF untuk ekstraksi fitur dan Support Vector Machine sebagai model klasifikasi."
   ]
  },
  {
   "cell_type": "code",
   "execution_count": 111,
   "id": "b61df5b7",
   "metadata": {},
   "outputs": [],
   "source": [
    "# Inisialisasi TF-IDF\n",
    "tfidf = TfidfVectorizer(max_features=5000)  # Batasin fitur biar efisien\n",
    "\n",
    "# Transform teks bersih\n",
    "X = tfidf.fit_transform(df['clean_review'])\n",
    "\n",
    "# Label\n",
    "y = df['sentiment']"
   ]
  },
  {
   "cell_type": "markdown",
   "id": "50a23c06",
   "metadata": {},
   "source": [
    "### Split Data"
   ]
  },
  {
   "cell_type": "code",
   "execution_count": 112,
   "id": "f5ae63b5",
   "metadata": {},
   "outputs": [],
   "source": [
    "# Split 80:20\n",
    "X_train, X_test, y_train, y_test = train_test_split(\n",
    "    X, y, test_size=0.2, stratify=y, random_state=42\n",
    ")\n"
   ]
  },
  {
   "cell_type": "markdown",
   "id": "b5f871f9",
   "metadata": {},
   "source": [
    "### Training SVM"
   ]
  },
  {
   "cell_type": "code",
   "execution_count": 113,
   "id": "160c4e23",
   "metadata": {},
   "outputs": [
    {
     "name": "stdout",
     "output_type": "stream",
     "text": [
      "Akurasi: 0.989\n",
      "\n",
      "Classification Report:\n",
      "              precision    recall  f1-score   support\n",
      "\n",
      "     negatif       1.00      0.98      0.99       890\n",
      "      netral       0.96      0.94      0.95       112\n",
      "     positif       0.98      1.00      0.99       998\n",
      "\n",
      "    accuracy                           0.99      2000\n",
      "   macro avg       0.98      0.97      0.98      2000\n",
      "weighted avg       0.99      0.99      0.99      2000\n",
      "\n"
     ]
    }
   ],
   "source": [
    "# Inisialisasi dan training model\n",
    "svm = LinearSVC()\n",
    "svm.fit(X_train, y_train)\n",
    "\n",
    "# Prediksi\n",
    "y_pred = svm.predict(X_test)\n",
    "\n",
    "# Evaluasi\n",
    "print(\"Akurasi:\", accuracy_score(y_test, y_pred))\n",
    "print(\"\\nClassification Report:\")\n",
    "print(classification_report(y_test, y_pred))\n"
   ]
  },
  {
   "cell_type": "markdown",
   "id": "8696de39",
   "metadata": {},
   "source": [
    "### Inference Skema 1"
   ]
  },
  {
   "cell_type": "code",
   "execution_count": 114,
   "id": "4009cff5",
   "metadata": {},
   "outputs": [
    {
     "name": "stdout",
     "output_type": "stream",
     "text": [
      "Prediksi sentimen: negatif\n"
     ]
    }
   ],
   "source": [
    "# Contoh kalimat\n",
    "sample = [\"produk ini sangat mengecewakan dan tidak sesuai deskripsi\"]\n",
    "\n",
    "# Preprocessing\n",
    "cleaned = [clean_text(sample[0])]\n",
    "\n",
    "# TF-IDF transform\n",
    "vectorized = tfidf.transform(cleaned)\n",
    "\n",
    "# Prediksi\n",
    "prediction = svm.predict(vectorized)\n",
    "print(\"Prediksi sentimen:\", prediction[0])\n"
   ]
  },
  {
   "cell_type": "markdown",
   "id": "0bde9652",
   "metadata": {},
   "source": [
    "# Skema 2: Word2Vec + Random Forest\n",
    "Menggunakan Word2Vec untuk representasi kata dan Random Forest untuk klasifikasi."
   ]
  },
  {
   "cell_type": "markdown",
   "id": "81e0d1cc",
   "metadata": {},
   "source": [
    "### Tokenisasi untuk Word2Vec"
   ]
  },
  {
   "cell_type": "code",
   "execution_count": 115,
   "id": "ee535c43",
   "metadata": {},
   "outputs": [],
   "source": [
    "# Tokenisasi berdasarkan teks yang sudah dibersihkan\n",
    "tokenized_reviews = [review.split() for review in df['clean_review']]\n"
   ]
  },
  {
   "cell_type": "markdown",
   "id": "c27e74c5",
   "metadata": {},
   "source": [
    "### Training Model Word2Vec"
   ]
  },
  {
   "cell_type": "code",
   "execution_count": 116,
   "id": "e431f98d",
   "metadata": {},
   "outputs": [],
   "source": [
    "w2v_model = Word2Vec(sentences=tokenized_reviews, vector_size=100, window=5, min_count=2, workers=4)"
   ]
  },
  {
   "cell_type": "markdown",
   "id": "3167e9f7",
   "metadata": {},
   "source": [
    "### Fungsi: Rata-rata Vektor Word2Vec untuk Tiap Review"
   ]
  },
  {
   "cell_type": "code",
   "execution_count": 117,
   "id": "97bebc68",
   "metadata": {},
   "outputs": [],
   "source": [
    "def get_w2v_vector(tokens, model, vector_size):\n",
    "    vectors = [model.wv[word] for word in tokens if word in model.wv]\n",
    "    if len(vectors) == 0:\n",
    "        return np.zeros(vector_size)\n",
    "    return np.mean(vectors, axis=0)"
   ]
  },
  {
   "cell_type": "markdown",
   "id": "1c3fae4f",
   "metadata": {},
   "source": [
    "### Konversi Semua Review Jadi Vektor Word2Vec"
   ]
  },
  {
   "cell_type": "code",
   "execution_count": 118,
   "id": "808312fc",
   "metadata": {},
   "outputs": [],
   "source": [
    "# Konversi review jadi representasi vektor\n",
    "X_w2v = np.array([\n",
    "    get_w2v_vector(tokens, w2v_model, vector_size=100)\n",
    "    for tokens in tokenized_reviews\n",
    "])\n",
    "\n",
    "# Label tetap pakai sentimen\n",
    "y = df['sentiment']"
   ]
  },
  {
   "cell_type": "markdown",
   "id": "1ef58ef4",
   "metadata": {},
   "source": [
    "### Split Data"
   ]
  },
  {
   "cell_type": "code",
   "execution_count": 119,
   "id": "90e8a04d",
   "metadata": {},
   "outputs": [],
   "source": [
    "# Split data dengan stratifikasi label\n",
    "X_train_w2v, X_test_w2v, y_train_w2v, y_test_w2v = train_test_split(\n",
    "    X_w2v, y, test_size=0.2, stratify=y, random_state=42\n",
    ")"
   ]
  },
  {
   "cell_type": "markdown",
   "id": "2122dad9",
   "metadata": {},
   "source": [
    "### Training Random Forest"
   ]
  },
  {
   "cell_type": "code",
   "execution_count": 120,
   "id": "ae5ee0c2",
   "metadata": {},
   "outputs": [
    {
     "data": {
      "text/html": [
       "<style>#sk-container-id-5 {\n",
       "  /* Definition of color scheme common for light and dark mode */\n",
       "  --sklearn-color-text: #000;\n",
       "  --sklearn-color-text-muted: #666;\n",
       "  --sklearn-color-line: gray;\n",
       "  /* Definition of color scheme for unfitted estimators */\n",
       "  --sklearn-color-unfitted-level-0: #fff5e6;\n",
       "  --sklearn-color-unfitted-level-1: #f6e4d2;\n",
       "  --sklearn-color-unfitted-level-2: #ffe0b3;\n",
       "  --sklearn-color-unfitted-level-3: chocolate;\n",
       "  /* Definition of color scheme for fitted estimators */\n",
       "  --sklearn-color-fitted-level-0: #f0f8ff;\n",
       "  --sklearn-color-fitted-level-1: #d4ebff;\n",
       "  --sklearn-color-fitted-level-2: #b3dbfd;\n",
       "  --sklearn-color-fitted-level-3: cornflowerblue;\n",
       "\n",
       "  /* Specific color for light theme */\n",
       "  --sklearn-color-text-on-default-background: var(--sg-text-color, var(--theme-code-foreground, var(--jp-content-font-color1, black)));\n",
       "  --sklearn-color-background: var(--sg-background-color, var(--theme-background, var(--jp-layout-color0, white)));\n",
       "  --sklearn-color-border-box: var(--sg-text-color, var(--theme-code-foreground, var(--jp-content-font-color1, black)));\n",
       "  --sklearn-color-icon: #696969;\n",
       "\n",
       "  @media (prefers-color-scheme: dark) {\n",
       "    /* Redefinition of color scheme for dark theme */\n",
       "    --sklearn-color-text-on-default-background: var(--sg-text-color, var(--theme-code-foreground, var(--jp-content-font-color1, white)));\n",
       "    --sklearn-color-background: var(--sg-background-color, var(--theme-background, var(--jp-layout-color0, #111)));\n",
       "    --sklearn-color-border-box: var(--sg-text-color, var(--theme-code-foreground, var(--jp-content-font-color1, white)));\n",
       "    --sklearn-color-icon: #878787;\n",
       "  }\n",
       "}\n",
       "\n",
       "#sk-container-id-5 {\n",
       "  color: var(--sklearn-color-text);\n",
       "}\n",
       "\n",
       "#sk-container-id-5 pre {\n",
       "  padding: 0;\n",
       "}\n",
       "\n",
       "#sk-container-id-5 input.sk-hidden--visually {\n",
       "  border: 0;\n",
       "  clip: rect(1px 1px 1px 1px);\n",
       "  clip: rect(1px, 1px, 1px, 1px);\n",
       "  height: 1px;\n",
       "  margin: -1px;\n",
       "  overflow: hidden;\n",
       "  padding: 0;\n",
       "  position: absolute;\n",
       "  width: 1px;\n",
       "}\n",
       "\n",
       "#sk-container-id-5 div.sk-dashed-wrapped {\n",
       "  border: 1px dashed var(--sklearn-color-line);\n",
       "  margin: 0 0.4em 0.5em 0.4em;\n",
       "  box-sizing: border-box;\n",
       "  padding-bottom: 0.4em;\n",
       "  background-color: var(--sklearn-color-background);\n",
       "}\n",
       "\n",
       "#sk-container-id-5 div.sk-container {\n",
       "  /* jupyter's `normalize.less` sets `[hidden] { display: none; }`\n",
       "     but bootstrap.min.css set `[hidden] { display: none !important; }`\n",
       "     so we also need the `!important` here to be able to override the\n",
       "     default hidden behavior on the sphinx rendered scikit-learn.org.\n",
       "     See: https://github.com/scikit-learn/scikit-learn/issues/21755 */\n",
       "  display: inline-block !important;\n",
       "  position: relative;\n",
       "}\n",
       "\n",
       "#sk-container-id-5 div.sk-text-repr-fallback {\n",
       "  display: none;\n",
       "}\n",
       "\n",
       "div.sk-parallel-item,\n",
       "div.sk-serial,\n",
       "div.sk-item {\n",
       "  /* draw centered vertical line to link estimators */\n",
       "  background-image: linear-gradient(var(--sklearn-color-text-on-default-background), var(--sklearn-color-text-on-default-background));\n",
       "  background-size: 2px 100%;\n",
       "  background-repeat: no-repeat;\n",
       "  background-position: center center;\n",
       "}\n",
       "\n",
       "/* Parallel-specific style estimator block */\n",
       "\n",
       "#sk-container-id-5 div.sk-parallel-item::after {\n",
       "  content: \"\";\n",
       "  width: 100%;\n",
       "  border-bottom: 2px solid var(--sklearn-color-text-on-default-background);\n",
       "  flex-grow: 1;\n",
       "}\n",
       "\n",
       "#sk-container-id-5 div.sk-parallel {\n",
       "  display: flex;\n",
       "  align-items: stretch;\n",
       "  justify-content: center;\n",
       "  background-color: var(--sklearn-color-background);\n",
       "  position: relative;\n",
       "}\n",
       "\n",
       "#sk-container-id-5 div.sk-parallel-item {\n",
       "  display: flex;\n",
       "  flex-direction: column;\n",
       "}\n",
       "\n",
       "#sk-container-id-5 div.sk-parallel-item:first-child::after {\n",
       "  align-self: flex-end;\n",
       "  width: 50%;\n",
       "}\n",
       "\n",
       "#sk-container-id-5 div.sk-parallel-item:last-child::after {\n",
       "  align-self: flex-start;\n",
       "  width: 50%;\n",
       "}\n",
       "\n",
       "#sk-container-id-5 div.sk-parallel-item:only-child::after {\n",
       "  width: 0;\n",
       "}\n",
       "\n",
       "/* Serial-specific style estimator block */\n",
       "\n",
       "#sk-container-id-5 div.sk-serial {\n",
       "  display: flex;\n",
       "  flex-direction: column;\n",
       "  align-items: center;\n",
       "  background-color: var(--sklearn-color-background);\n",
       "  padding-right: 1em;\n",
       "  padding-left: 1em;\n",
       "}\n",
       "\n",
       "\n",
       "/* Toggleable style: style used for estimator/Pipeline/ColumnTransformer box that is\n",
       "clickable and can be expanded/collapsed.\n",
       "- Pipeline and ColumnTransformer use this feature and define the default style\n",
       "- Estimators will overwrite some part of the style using the `sk-estimator` class\n",
       "*/\n",
       "\n",
       "/* Pipeline and ColumnTransformer style (default) */\n",
       "\n",
       "#sk-container-id-5 div.sk-toggleable {\n",
       "  /* Default theme specific background. It is overwritten whether we have a\n",
       "  specific estimator or a Pipeline/ColumnTransformer */\n",
       "  background-color: var(--sklearn-color-background);\n",
       "}\n",
       "\n",
       "/* Toggleable label */\n",
       "#sk-container-id-5 label.sk-toggleable__label {\n",
       "  cursor: pointer;\n",
       "  display: flex;\n",
       "  width: 100%;\n",
       "  margin-bottom: 0;\n",
       "  padding: 0.5em;\n",
       "  box-sizing: border-box;\n",
       "  text-align: center;\n",
       "  align-items: start;\n",
       "  justify-content: space-between;\n",
       "  gap: 0.5em;\n",
       "}\n",
       "\n",
       "#sk-container-id-5 label.sk-toggleable__label .caption {\n",
       "  font-size: 0.6rem;\n",
       "  font-weight: lighter;\n",
       "  color: var(--sklearn-color-text-muted);\n",
       "}\n",
       "\n",
       "#sk-container-id-5 label.sk-toggleable__label-arrow:before {\n",
       "  /* Arrow on the left of the label */\n",
       "  content: \"▸\";\n",
       "  float: left;\n",
       "  margin-right: 0.25em;\n",
       "  color: var(--sklearn-color-icon);\n",
       "}\n",
       "\n",
       "#sk-container-id-5 label.sk-toggleable__label-arrow:hover:before {\n",
       "  color: var(--sklearn-color-text);\n",
       "}\n",
       "\n",
       "/* Toggleable content - dropdown */\n",
       "\n",
       "#sk-container-id-5 div.sk-toggleable__content {\n",
       "  max-height: 0;\n",
       "  max-width: 0;\n",
       "  overflow: hidden;\n",
       "  text-align: left;\n",
       "  /* unfitted */\n",
       "  background-color: var(--sklearn-color-unfitted-level-0);\n",
       "}\n",
       "\n",
       "#sk-container-id-5 div.sk-toggleable__content.fitted {\n",
       "  /* fitted */\n",
       "  background-color: var(--sklearn-color-fitted-level-0);\n",
       "}\n",
       "\n",
       "#sk-container-id-5 div.sk-toggleable__content pre {\n",
       "  margin: 0.2em;\n",
       "  border-radius: 0.25em;\n",
       "  color: var(--sklearn-color-text);\n",
       "  /* unfitted */\n",
       "  background-color: var(--sklearn-color-unfitted-level-0);\n",
       "}\n",
       "\n",
       "#sk-container-id-5 div.sk-toggleable__content.fitted pre {\n",
       "  /* unfitted */\n",
       "  background-color: var(--sklearn-color-fitted-level-0);\n",
       "}\n",
       "\n",
       "#sk-container-id-5 input.sk-toggleable__control:checked~div.sk-toggleable__content {\n",
       "  /* Expand drop-down */\n",
       "  max-height: 200px;\n",
       "  max-width: 100%;\n",
       "  overflow: auto;\n",
       "}\n",
       "\n",
       "#sk-container-id-5 input.sk-toggleable__control:checked~label.sk-toggleable__label-arrow:before {\n",
       "  content: \"▾\";\n",
       "}\n",
       "\n",
       "/* Pipeline/ColumnTransformer-specific style */\n",
       "\n",
       "#sk-container-id-5 div.sk-label input.sk-toggleable__control:checked~label.sk-toggleable__label {\n",
       "  color: var(--sklearn-color-text);\n",
       "  background-color: var(--sklearn-color-unfitted-level-2);\n",
       "}\n",
       "\n",
       "#sk-container-id-5 div.sk-label.fitted input.sk-toggleable__control:checked~label.sk-toggleable__label {\n",
       "  background-color: var(--sklearn-color-fitted-level-2);\n",
       "}\n",
       "\n",
       "/* Estimator-specific style */\n",
       "\n",
       "/* Colorize estimator box */\n",
       "#sk-container-id-5 div.sk-estimator input.sk-toggleable__control:checked~label.sk-toggleable__label {\n",
       "  /* unfitted */\n",
       "  background-color: var(--sklearn-color-unfitted-level-2);\n",
       "}\n",
       "\n",
       "#sk-container-id-5 div.sk-estimator.fitted input.sk-toggleable__control:checked~label.sk-toggleable__label {\n",
       "  /* fitted */\n",
       "  background-color: var(--sklearn-color-fitted-level-2);\n",
       "}\n",
       "\n",
       "#sk-container-id-5 div.sk-label label.sk-toggleable__label,\n",
       "#sk-container-id-5 div.sk-label label {\n",
       "  /* The background is the default theme color */\n",
       "  color: var(--sklearn-color-text-on-default-background);\n",
       "}\n",
       "\n",
       "/* On hover, darken the color of the background */\n",
       "#sk-container-id-5 div.sk-label:hover label.sk-toggleable__label {\n",
       "  color: var(--sklearn-color-text);\n",
       "  background-color: var(--sklearn-color-unfitted-level-2);\n",
       "}\n",
       "\n",
       "/* Label box, darken color on hover, fitted */\n",
       "#sk-container-id-5 div.sk-label.fitted:hover label.sk-toggleable__label.fitted {\n",
       "  color: var(--sklearn-color-text);\n",
       "  background-color: var(--sklearn-color-fitted-level-2);\n",
       "}\n",
       "\n",
       "/* Estimator label */\n",
       "\n",
       "#sk-container-id-5 div.sk-label label {\n",
       "  font-family: monospace;\n",
       "  font-weight: bold;\n",
       "  display: inline-block;\n",
       "  line-height: 1.2em;\n",
       "}\n",
       "\n",
       "#sk-container-id-5 div.sk-label-container {\n",
       "  text-align: center;\n",
       "}\n",
       "\n",
       "/* Estimator-specific */\n",
       "#sk-container-id-5 div.sk-estimator {\n",
       "  font-family: monospace;\n",
       "  border: 1px dotted var(--sklearn-color-border-box);\n",
       "  border-radius: 0.25em;\n",
       "  box-sizing: border-box;\n",
       "  margin-bottom: 0.5em;\n",
       "  /* unfitted */\n",
       "  background-color: var(--sklearn-color-unfitted-level-0);\n",
       "}\n",
       "\n",
       "#sk-container-id-5 div.sk-estimator.fitted {\n",
       "  /* fitted */\n",
       "  background-color: var(--sklearn-color-fitted-level-0);\n",
       "}\n",
       "\n",
       "/* on hover */\n",
       "#sk-container-id-5 div.sk-estimator:hover {\n",
       "  /* unfitted */\n",
       "  background-color: var(--sklearn-color-unfitted-level-2);\n",
       "}\n",
       "\n",
       "#sk-container-id-5 div.sk-estimator.fitted:hover {\n",
       "  /* fitted */\n",
       "  background-color: var(--sklearn-color-fitted-level-2);\n",
       "}\n",
       "\n",
       "/* Specification for estimator info (e.g. \"i\" and \"?\") */\n",
       "\n",
       "/* Common style for \"i\" and \"?\" */\n",
       "\n",
       ".sk-estimator-doc-link,\n",
       "a:link.sk-estimator-doc-link,\n",
       "a:visited.sk-estimator-doc-link {\n",
       "  float: right;\n",
       "  font-size: smaller;\n",
       "  line-height: 1em;\n",
       "  font-family: monospace;\n",
       "  background-color: var(--sklearn-color-background);\n",
       "  border-radius: 1em;\n",
       "  height: 1em;\n",
       "  width: 1em;\n",
       "  text-decoration: none !important;\n",
       "  margin-left: 0.5em;\n",
       "  text-align: center;\n",
       "  /* unfitted */\n",
       "  border: var(--sklearn-color-unfitted-level-1) 1pt solid;\n",
       "  color: var(--sklearn-color-unfitted-level-1);\n",
       "}\n",
       "\n",
       ".sk-estimator-doc-link.fitted,\n",
       "a:link.sk-estimator-doc-link.fitted,\n",
       "a:visited.sk-estimator-doc-link.fitted {\n",
       "  /* fitted */\n",
       "  border: var(--sklearn-color-fitted-level-1) 1pt solid;\n",
       "  color: var(--sklearn-color-fitted-level-1);\n",
       "}\n",
       "\n",
       "/* On hover */\n",
       "div.sk-estimator:hover .sk-estimator-doc-link:hover,\n",
       ".sk-estimator-doc-link:hover,\n",
       "div.sk-label-container:hover .sk-estimator-doc-link:hover,\n",
       ".sk-estimator-doc-link:hover {\n",
       "  /* unfitted */\n",
       "  background-color: var(--sklearn-color-unfitted-level-3);\n",
       "  color: var(--sklearn-color-background);\n",
       "  text-decoration: none;\n",
       "}\n",
       "\n",
       "div.sk-estimator.fitted:hover .sk-estimator-doc-link.fitted:hover,\n",
       ".sk-estimator-doc-link.fitted:hover,\n",
       "div.sk-label-container:hover .sk-estimator-doc-link.fitted:hover,\n",
       ".sk-estimator-doc-link.fitted:hover {\n",
       "  /* fitted */\n",
       "  background-color: var(--sklearn-color-fitted-level-3);\n",
       "  color: var(--sklearn-color-background);\n",
       "  text-decoration: none;\n",
       "}\n",
       "\n",
       "/* Span, style for the box shown on hovering the info icon */\n",
       ".sk-estimator-doc-link span {\n",
       "  display: none;\n",
       "  z-index: 9999;\n",
       "  position: relative;\n",
       "  font-weight: normal;\n",
       "  right: .2ex;\n",
       "  padding: .5ex;\n",
       "  margin: .5ex;\n",
       "  width: min-content;\n",
       "  min-width: 20ex;\n",
       "  max-width: 50ex;\n",
       "  color: var(--sklearn-color-text);\n",
       "  box-shadow: 2pt 2pt 4pt #999;\n",
       "  /* unfitted */\n",
       "  background: var(--sklearn-color-unfitted-level-0);\n",
       "  border: .5pt solid var(--sklearn-color-unfitted-level-3);\n",
       "}\n",
       "\n",
       ".sk-estimator-doc-link.fitted span {\n",
       "  /* fitted */\n",
       "  background: var(--sklearn-color-fitted-level-0);\n",
       "  border: var(--sklearn-color-fitted-level-3);\n",
       "}\n",
       "\n",
       ".sk-estimator-doc-link:hover span {\n",
       "  display: block;\n",
       "}\n",
       "\n",
       "/* \"?\"-specific style due to the `<a>` HTML tag */\n",
       "\n",
       "#sk-container-id-5 a.estimator_doc_link {\n",
       "  float: right;\n",
       "  font-size: 1rem;\n",
       "  line-height: 1em;\n",
       "  font-family: monospace;\n",
       "  background-color: var(--sklearn-color-background);\n",
       "  border-radius: 1rem;\n",
       "  height: 1rem;\n",
       "  width: 1rem;\n",
       "  text-decoration: none;\n",
       "  /* unfitted */\n",
       "  color: var(--sklearn-color-unfitted-level-1);\n",
       "  border: var(--sklearn-color-unfitted-level-1) 1pt solid;\n",
       "}\n",
       "\n",
       "#sk-container-id-5 a.estimator_doc_link.fitted {\n",
       "  /* fitted */\n",
       "  border: var(--sklearn-color-fitted-level-1) 1pt solid;\n",
       "  color: var(--sklearn-color-fitted-level-1);\n",
       "}\n",
       "\n",
       "/* On hover */\n",
       "#sk-container-id-5 a.estimator_doc_link:hover {\n",
       "  /* unfitted */\n",
       "  background-color: var(--sklearn-color-unfitted-level-3);\n",
       "  color: var(--sklearn-color-background);\n",
       "  text-decoration: none;\n",
       "}\n",
       "\n",
       "#sk-container-id-5 a.estimator_doc_link.fitted:hover {\n",
       "  /* fitted */\n",
       "  background-color: var(--sklearn-color-fitted-level-3);\n",
       "}\n",
       "</style><div id=\"sk-container-id-5\" class=\"sk-top-container\"><div class=\"sk-text-repr-fallback\"><pre>RandomForestClassifier(random_state=42)</pre><b>In a Jupyter environment, please rerun this cell to show the HTML representation or trust the notebook. <br />On GitHub, the HTML representation is unable to render, please try loading this page with nbviewer.org.</b></div><div class=\"sk-container\" hidden><div class=\"sk-item\"><div class=\"sk-estimator fitted sk-toggleable\"><input class=\"sk-toggleable__control sk-hidden--visually\" id=\"sk-estimator-id-5\" type=\"checkbox\" checked><label for=\"sk-estimator-id-5\" class=\"sk-toggleable__label fitted sk-toggleable__label-arrow\"><div><div>RandomForestClassifier</div></div><div><a class=\"sk-estimator-doc-link fitted\" rel=\"noreferrer\" target=\"_blank\" href=\"https://scikit-learn.org/1.6/modules/generated/sklearn.ensemble.RandomForestClassifier.html\">?<span>Documentation for RandomForestClassifier</span></a><span class=\"sk-estimator-doc-link fitted\">i<span>Fitted</span></span></div></label><div class=\"sk-toggleable__content fitted\"><pre>RandomForestClassifier(random_state=42)</pre></div> </div></div></div></div>"
      ],
      "text/plain": [
       "RandomForestClassifier(random_state=42)"
      ]
     },
     "execution_count": 120,
     "metadata": {},
     "output_type": "execute_result"
    }
   ],
   "source": [
    "# Inisialisasi dan latih model Random Forest\n",
    "rf = RandomForestClassifier(n_estimators=100, random_state=42)\n",
    "rf.fit(X_train_w2v, y_train_w2v)"
   ]
  },
  {
   "cell_type": "markdown",
   "id": "04b0a65d",
   "metadata": {},
   "source": [
    "### Evaluasi Model"
   ]
  },
  {
   "cell_type": "code",
   "execution_count": 121,
   "id": "ddd695c4",
   "metadata": {},
   "outputs": [
    {
     "name": "stdout",
     "output_type": "stream",
     "text": [
      "Akurasi Random Forest + Word2Vec: 0.989\n",
      "\n",
      "Classification Report:\n",
      "              precision    recall  f1-score   support\n",
      "\n",
      "     negatif       1.00      0.98      0.99       890\n",
      "      netral       0.96      0.94      0.95       112\n",
      "     positif       0.98      1.00      0.99       998\n",
      "\n",
      "    accuracy                           0.99      2000\n",
      "   macro avg       0.98      0.97      0.98      2000\n",
      "weighted avg       0.99      0.99      0.99      2000\n",
      "\n"
     ]
    }
   ],
   "source": [
    "# Prediksi dan evaluasi performa\n",
    "y_pred_w2v = rf.predict(X_test_w2v)\n",
    "\n",
    "print(\"Akurasi Random Forest + Word2Vec:\", accuracy_score(y_test_w2v, y_pred_w2v))\n",
    "print(\"\\nClassification Report:\")\n",
    "print(classification_report(y_test_w2v, y_pred_w2v))\n"
   ]
  },
  {
   "cell_type": "markdown",
   "id": "ae2248ce",
   "metadata": {},
   "source": [
    "### Inference Skema 2"
   ]
  },
  {
   "cell_type": "code",
   "execution_count": 122,
   "id": "12a6292f",
   "metadata": {},
   "outputs": [
    {
     "name": "stdout",
     "output_type": "stream",
     "text": [
      "Prediksi sentimen dengan Word2Vec + Random Forest: positif\n"
     ]
    }
   ],
   "source": [
    "# Contoh kalimat\n",
    "sample_w2v = [\"pelayanan cepat dan ramah\"]\n",
    "\n",
    "# Preprocessing\n",
    "sample_cleaned_w2v = clean_text(sample_w2v[0])\n",
    "\n",
    "# Tokenisasi\n",
    "sample_tokens_w2v = sample_cleaned_w2v.split()\n",
    "\n",
    "# Dapatkan vektor representasi rata-rata Word2Vec\n",
    "sample_vector_w2v = get_w2v_vector(sample_tokens_w2v, w2v_model, vector_size=100).reshape(1, -1)\n",
    "\n",
    "# Prediksi dengan Random Forest\n",
    "prediction_w2v = rf.predict(sample_vector_w2v)\n",
    "\n",
    "print(\"Prediksi sentimen dengan Word2Vec + Random Forest:\", prediction_w2v[0])\n"
   ]
  },
  {
   "cell_type": "markdown",
   "id": "4fce888e",
   "metadata": {},
   "source": [
    "# Skema 3: LSTM (Deep Learning)\n",
    "Menggunakan arsitektur LSTM dengan layer embedding untuk klasifikasi sentimen.\n"
   ]
  },
  {
   "cell_type": "markdown",
   "id": "5cd6185d",
   "metadata": {},
   "source": [
    "### Preprocessing Teks untuk LSTM"
   ]
  },
  {
   "cell_type": "code",
   "execution_count": 123,
   "id": "282ca0dd",
   "metadata": {},
   "outputs": [],
   "source": [
    "# Tokenisasi untuk LSTM\n",
    "tokenizer = tf.keras.preprocessing.text.Tokenizer(num_words=5000)  # 5000 kata paling sering\n",
    "\n",
    "# Fit tokenizer dengan teks yang sudah dibersihkan\n",
    "tokenizer.fit_on_texts(df['clean_review'])\n",
    "\n",
    "# Ubah teks menjadi urutan angka\n",
    "X_seq = tokenizer.texts_to_sequences(df['clean_review'])\n",
    "\n",
    "# Padding agar panjang setiap sequence sama\n",
    "X_pad = pad_sequences(X_seq, padding='post', maxlen=100)  # maxlen bisa disesuaikan\n",
    "\n",
    "# Labeling dengan LabelEncoder untuk konversi ke numerik\n",
    "le = LabelEncoder()\n",
    "y_encoded = le.fit_transform(df['sentiment'])\n"
   ]
  },
  {
   "cell_type": "markdown",
   "id": "83afc353",
   "metadata": {},
   "source": [
    "### Split Data"
   ]
  },
  {
   "cell_type": "code",
   "execution_count": 124,
   "id": "11dbfd5f",
   "metadata": {},
   "outputs": [],
   "source": [
    "# Split data menjadi train dan test (80:20)\n",
    "X_train_lstm, X_test_lstm, y_train_lstm, y_test_lstm = train_test_split(\n",
    "    X_pad, y_encoded, test_size=0.2, stratify=y_encoded, random_state=42\n",
    ")"
   ]
  },
  {
   "cell_type": "markdown",
   "id": "040ce1a7",
   "metadata": {},
   "source": [
    "### Membangun Model LSTM"
   ]
  },
  {
   "cell_type": "code",
   "execution_count": 125,
   "id": "7ed7b0a5",
   "metadata": {},
   "outputs": [],
   "source": [
    "# Model LSTM\n",
    "model = Sequential()\n",
    "model.add(Embedding(input_dim=len(tokenizer.word_index) + 1, output_dim=100))  # +1 untuk memasukkan indeks 0\n",
    "model.add(Bidirectional(LSTM(128, return_sequences=False)))\n",
    "model.add(Dropout(0.5))\n",
    "model.add(Dense(3, activation='softmax'))  # 3 kelas sentimen: positif, netral, negatif\n",
    "\n",
    "model.compile(loss='sparse_categorical_crossentropy', optimizer='adam', metrics=['accuracy'])\n"
   ]
  },
  {
   "cell_type": "markdown",
   "id": "ed0f57bd",
   "metadata": {},
   "source": [
    "### Training Model LSTM"
   ]
  },
  {
   "cell_type": "code",
   "execution_count": 126,
   "id": "a5c7e848",
   "metadata": {},
   "outputs": [],
   "source": [
    "# EarlyStopping untuk menghindari overfitting\n",
    "early_stopping = EarlyStopping(monitor='val_loss', patience=3, restore_best_weights=True)\n"
   ]
  },
  {
   "cell_type": "code",
   "execution_count": 127,
   "id": "7d3a2c17",
   "metadata": {},
   "outputs": [
    {
     "name": "stdout",
     "output_type": "stream",
     "text": [
      "Epoch 1/10\n",
      "\u001b[1m125/125\u001b[0m \u001b[32m━━━━━━━━━━━━━━━━━━━━\u001b[0m\u001b[37m\u001b[0m \u001b[1m10s\u001b[0m 67ms/step - accuracy: 0.7120 - loss: 0.6943 - val_accuracy: 0.9100 - val_loss: 0.2428\n",
      "Epoch 2/10\n",
      "\u001b[1m125/125\u001b[0m \u001b[32m━━━━━━━━━━━━━━━━━━━━\u001b[0m\u001b[37m\u001b[0m \u001b[1m8s\u001b[0m 63ms/step - accuracy: 0.9339 - loss: 0.1878 - val_accuracy: 0.9735 - val_loss: 0.0779\n",
      "Epoch 3/10\n",
      "\u001b[1m125/125\u001b[0m \u001b[32m━━━━━━━━━━━━━━━━━━━━\u001b[0m\u001b[37m\u001b[0m \u001b[1m8s\u001b[0m 63ms/step - accuracy: 0.9802 - loss: 0.0745 - val_accuracy: 0.9840 - val_loss: 0.0465\n",
      "Epoch 4/10\n",
      "\u001b[1m125/125\u001b[0m \u001b[32m━━━━━━━━━━━━━━━━━━━━\u001b[0m\u001b[37m\u001b[0m \u001b[1m10s\u001b[0m 76ms/step - accuracy: 0.9890 - loss: 0.0425 - val_accuracy: 0.9900 - val_loss: 0.0305\n",
      "Epoch 5/10\n",
      "\u001b[1m125/125\u001b[0m \u001b[32m━━━━━━━━━━━━━━━━━━━━\u001b[0m\u001b[37m\u001b[0m \u001b[1m12s\u001b[0m 96ms/step - accuracy: 0.9911 - loss: 0.0314 - val_accuracy: 0.9870 - val_loss: 0.0347\n",
      "Epoch 6/10\n",
      "\u001b[1m125/125\u001b[0m \u001b[32m━━━━━━━━━━━━━━━━━━━━\u001b[0m\u001b[37m\u001b[0m \u001b[1m12s\u001b[0m 98ms/step - accuracy: 0.9895 - loss: 0.0315 - val_accuracy: 0.9870 - val_loss: 0.0319\n",
      "Epoch 7/10\n",
      "\u001b[1m125/125\u001b[0m \u001b[32m━━━━━━━━━━━━━━━━━━━━\u001b[0m\u001b[37m\u001b[0m \u001b[1m9s\u001b[0m 71ms/step - accuracy: 0.9928 - loss: 0.0242 - val_accuracy: 0.9890 - val_loss: 0.0297\n",
      "Epoch 8/10\n",
      "\u001b[1m125/125\u001b[0m \u001b[32m━━━━━━━━━━━━━━━━━━━━\u001b[0m\u001b[37m\u001b[0m \u001b[1m8s\u001b[0m 64ms/step - accuracy: 0.9919 - loss: 0.0295 - val_accuracy: 0.9905 - val_loss: 0.0267\n",
      "Epoch 9/10\n",
      "\u001b[1m125/125\u001b[0m \u001b[32m━━━━━━━━━━━━━━━━━━━━\u001b[0m\u001b[37m\u001b[0m \u001b[1m8s\u001b[0m 63ms/step - accuracy: 0.9927 - loss: 0.0244 - val_accuracy: 0.9890 - val_loss: 0.0284\n",
      "Epoch 10/10\n",
      "\u001b[1m125/125\u001b[0m \u001b[32m━━━━━━━━━━━━━━━━━━━━\u001b[0m\u001b[37m\u001b[0m \u001b[1m8s\u001b[0m 61ms/step - accuracy: 0.9933 - loss: 0.0221 - val_accuracy: 0.9895 - val_loss: 0.0275\n"
     ]
    }
   ],
   "source": [
    "history = model.fit(X_train_lstm, y_train_lstm, epochs=10, batch_size=64, \n",
    "                    validation_data=(X_test_lstm, y_test_lstm), callbacks=[early_stopping])\n"
   ]
  },
  {
   "cell_type": "markdown",
   "id": "493b1f91",
   "metadata": {},
   "source": [
    "### Evaluasi Model LSTM"
   ]
  },
  {
   "cell_type": "code",
   "execution_count": 128,
   "id": "e5cd3482",
   "metadata": {},
   "outputs": [
    {
     "name": "stdout",
     "output_type": "stream",
     "text": [
      "\u001b[1m63/63\u001b[0m \u001b[32m━━━━━━━━━━━━━━━━━━━━\u001b[0m\u001b[37m\u001b[0m \u001b[1m1s\u001b[0m 18ms/step\n",
      "Akurasi LSTM: 0.9905\n",
      "\n",
      "Classification Report:\n",
      "              precision    recall  f1-score   support\n",
      "\n",
      "           0       1.00      0.99      0.99       890\n",
      "           1       1.00      0.93      0.96       112\n",
      "           2       0.98      1.00      0.99       998\n",
      "\n",
      "    accuracy                           0.99      2000\n",
      "   macro avg       0.99      0.97      0.98      2000\n",
      "weighted avg       0.99      0.99      0.99      2000\n",
      "\n"
     ]
    }
   ],
   "source": [
    "# Evaluasi model di data test\n",
    "y_pred_lstm = model.predict(X_test_lstm)\n",
    "y_pred_lstm = np.argmax(y_pred_lstm, axis=1)  # Ubah probabilitas jadi kelas\n",
    "\n",
    "print(\"Akurasi LSTM:\", accuracy_score(y_test_lstm, y_pred_lstm))\n",
    "print(\"\\nClassification Report:\")\n",
    "print(classification_report(y_test_lstm, y_pred_lstm))\n"
   ]
  },
  {
   "cell_type": "markdown",
   "id": "5e2b788e",
   "metadata": {},
   "source": [
    "### Inference dengan Model LSTM"
   ]
  },
  {
   "cell_type": "code",
   "execution_count": 129,
   "id": "45707238",
   "metadata": {},
   "outputs": [
    {
     "name": "stdout",
     "output_type": "stream",
     "text": [
      "\u001b[1m1/1\u001b[0m \u001b[32m━━━━━━━━━━━━━━━━━━━━\u001b[0m\u001b[37m\u001b[0m \u001b[1m0s\u001b[0m 40ms/step\n",
      "Prediksi sentimen dengan LSTM: positif\n"
     ]
    }
   ],
   "source": [
    "# Contoh inferensi\n",
    "sample = [\"produk ini sangat keren\"]\n",
    "\n",
    "# Preprocessing\n",
    "sample_cleaned = [clean_text(sample[0])]\n",
    "sample_seq = tokenizer.texts_to_sequences(sample_cleaned)\n",
    "sample_pad = pad_sequences(sample_seq, padding='post', maxlen=100)\n",
    "\n",
    "# Prediksi\n",
    "prediction_lstm = model.predict(sample_pad)\n",
    "predicted_class = le.inverse_transform([np.argmax(prediction_lstm)])\n",
    "\n",
    "print(\"Prediksi sentimen dengan LSTM:\", predicted_class[0])\n"
   ]
  },
  {
   "cell_type": "markdown",
   "id": "9b8688a4",
   "metadata": {},
   "source": [
    "## Analisis Performa Model\n",
    "\n",
    "Dalam proyek ini, dilakukan eksperimen klasifikasi sentimen menggunakan tiga pendekatan berbeda: **TF-IDF + SVM**, **Word2Vec + Random Forest**, dan **LSTM (Deep Learning)**. Berikut adalah hasil evaluasi dan analisis perbandingannya:\n",
    "\n",
    "### 1. TF-IDF + SVM\n",
    "- **Akurasi**: 98.9%\n",
    "- **F1-Score Tertinggi**: Positif (0.99)\n",
    "- **Kelebihan**:\n",
    "  - Waktu pelatihan cepat dan efisien.\n",
    "  - Performa sangat baik meski model sederhana.\n",
    "- **Kekurangan**:\n",
    "  - Kurang memahami konteks kata (hanya berdasarkan frekuensi dan bobot kata).\n",
    "\n",
    "### 2. Word2Vec + Random Forest\n",
    "- **Akurasi**: 98.9%\n",
    "- **F1-Score Tertinggi**: Positif (0.99)\n",
    "- **Kelebihan**:\n",
    "  - Representasi kata lebih kontekstual dibanding TF-IDF.\n",
    "  - Random Forest andal dalam klasifikasi berbasis fitur.\n",
    "- **Kekurangan**:\n",
    "  - Hasil sangat mirip dengan TF-IDF, tapi training Word2Vec lebih kompleks.\n",
    "\n",
    "### 3. LSTM (Deep Learning)\n",
    "- **Akurasi Tertinggi**: **99.05%**\n",
    "- **Val Accuracy Stabil di Akhir Epoch**: ~99%\n",
    "- **Kelebihan**:\n",
    "  - Memahami urutan dan konteks kata dalam kalimat (berbasis sequence).\n",
    "  - Performa terbaik secara keseluruhan dan sangat cocok untuk teks panjang.\n",
    "- **Kekurangan**:\n",
    "  - Butuh waktu pelatihan lebih lama.\n",
    "  - Lebih kompleks dalam implementasi dan tuning.\n",
    "\n",
    "---\n",
    "\n",
    "### Kesimpulan & Rekomendasi\n",
    "\n",
    "Ketiga model menunjukkan performa luar biasa dengan akurasi di atas 98%. Namun, **LSTM menghasilkan akurasi terbaik** dan menunjukkan kestabilan yang sangat baik selama proses training dan validasi. Oleh karena itu, **LSTM direkomendasikan sebagai model utama** untuk klasifikasi sentimen dalam kasus ini, terutama jika dataset lebih besar dan kompleks.\n",
    "\n",
    "Namun, jika efisiensi waktu dan kemudahan deployment menjadi prioritas, **TF-IDF + SVM** atau **Word2Vec + Random Forest** tetap merupakan alternatif solid dengan hasil yang sangat kompetitif.\n"
   ]
  }
 ],
 "metadata": {
  "kernelspec": {
   "display_name": ".venv",
   "language": "python",
   "name": "python3"
  },
  "language_info": {
   "codemirror_mode": {
    "name": "ipython",
    "version": 3
   },
   "file_extension": ".py",
   "mimetype": "text/x-python",
   "name": "python",
   "nbconvert_exporter": "python",
   "pygments_lexer": "ipython3",
   "version": "3.10.6"
  }
 },
 "nbformat": 4,
 "nbformat_minor": 5
}
