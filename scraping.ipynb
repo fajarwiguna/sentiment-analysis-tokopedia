{
 "cells": [
  {
   "cell_type": "markdown",
   "id": "663d2ad1",
   "metadata": {},
   "source": [
    "# Import Library"
   ]
  },
  {
   "cell_type": "code",
   "execution_count": 22,
   "id": "2e7de407",
   "metadata": {},
   "outputs": [],
   "source": [
    "from google_play_scraper import Sort, reviews\n",
    "import pandas as pd"
   ]
  },
  {
   "cell_type": "markdown",
   "id": "19412410",
   "metadata": {},
   "source": [
    "# Mulai proses scraping"
   ]
  },
  {
   "cell_type": "code",
   "execution_count": 23,
   "id": "e549a5e6",
   "metadata": {},
   "outputs": [],
   "source": [
    "# Scrape review aplikasi Tokopedia \n",
    "app_id = 'com.tokopedia.tkpd'\n",
    "all_reviews = []"
   ]
  },
  {
   "cell_type": "code",
   "execution_count": 24,
   "id": "6ea944f2",
   "metadata": {},
   "outputs": [],
   "source": [
    "# Loop per 1000 karena limit maksimal per sekali request = 1000\n",
    "for offset in range(0, 10000, 1000):\n",
    "    rvs, _ = reviews(\n",
    "        app_id,\n",
    "        lang='id',\n",
    "        country='id',\n",
    "        sort=Sort.NEWEST,\n",
    "        count=1000,\n",
    "        filter_score_with=None,\n",
    "    )\n",
    "    all_reviews.extend(rvs)"
   ]
  },
  {
   "cell_type": "code",
   "execution_count": 25,
   "id": "12e89c3c",
   "metadata": {},
   "outputs": [],
   "source": [
    "# Simpan ke DataFrame\n",
    "df = pd.DataFrame(all_reviews)\n",
    "df = df[['content', 'score']]\n",
    "df.columns = ['review', 'rating']\n",
    "df.dropna(inplace=True)"
   ]
  },
  {
   "cell_type": "markdown",
   "id": "f73c7fb0",
   "metadata": {},
   "source": [
    "### Simpan ke CSV"
   ]
  },
  {
   "cell_type": "code",
   "execution_count": 30,
   "id": "1a875ad5",
   "metadata": {},
   "outputs": [],
   "source": [
    "df.to_csv('data_tokopedia_reviews.csv', index=False, encoding='utf-8-sig')"
   ]
  },
  {
   "cell_type": "code",
   "execution_count": 29,
   "id": "9b2b8317",
   "metadata": {},
   "outputs": [
    {
     "name": "stdout",
     "output_type": "stream",
     "text": [
      "Jumlah data: 10000\n"
     ]
    },
    {
     "data": {
      "text/html": [
       "<div>\n",
       "<style scoped>\n",
       "    .dataframe tbody tr th:only-of-type {\n",
       "        vertical-align: middle;\n",
       "    }\n",
       "\n",
       "    .dataframe tbody tr th {\n",
       "        vertical-align: top;\n",
       "    }\n",
       "\n",
       "    .dataframe thead th {\n",
       "        text-align: right;\n",
       "    }\n",
       "</style>\n",
       "<table border=\"1\" class=\"dataframe\">\n",
       "  <thead>\n",
       "    <tr style=\"text-align: right;\">\n",
       "      <th></th>\n",
       "      <th>review</th>\n",
       "      <th>rating</th>\n",
       "    </tr>\n",
       "  </thead>\n",
       "  <tbody>\n",
       "    <tr>\n",
       "      <th>0</th>\n",
       "      <td>kasih bintang 2 dulu, udah ga re amah buat hp ...</td>\n",
       "      <td>2</td>\n",
       "    </tr>\n",
       "    <tr>\n",
       "      <th>1</th>\n",
       "      <td>paket lambat sekali pas mau beli estimasi samp...</td>\n",
       "      <td>1</td>\n",
       "    </tr>\n",
       "    <tr>\n",
       "      <th>2</th>\n",
       "      <td>banyak sekali produk yang non cod saya takut b...</td>\n",
       "      <td>4</td>\n",
       "    </tr>\n",
       "    <tr>\n",
       "      <th>3</th>\n",
       "      <td>goood</td>\n",
       "      <td>5</td>\n",
       "    </tr>\n",
       "    <tr>\n",
       "      <th>4</th>\n",
       "      <td>goood.Mudahan Lebih turboo 🏀🚀</td>\n",
       "      <td>5</td>\n",
       "    </tr>\n",
       "  </tbody>\n",
       "</table>\n",
       "</div>"
      ],
      "text/plain": [
       "                                              review  rating\n",
       "0  kasih bintang 2 dulu, udah ga re amah buat hp ...       2\n",
       "1  paket lambat sekali pas mau beli estimasi samp...       1\n",
       "2  banyak sekali produk yang non cod saya takut b...       4\n",
       "3                                              goood       5\n",
       "4                      goood.Mudahan Lebih turboo 🏀🚀       5"
      ]
     },
     "execution_count": 29,
     "metadata": {},
     "output_type": "execute_result"
    }
   ],
   "source": [
    "print(f\"Jumlah data: {len(df)}\")\n",
    "df.head()"
   ]
  },
  {
   "cell_type": "code",
   "execution_count": 31,
   "id": "37146cd1",
   "metadata": {},
   "outputs": [
    {
     "name": "stdout",
     "output_type": "stream",
     "text": [
      "<class 'pandas.core.frame.DataFrame'>\n",
      "RangeIndex: 10000 entries, 0 to 9999\n",
      "Data columns (total 2 columns):\n",
      " #   Column  Non-Null Count  Dtype \n",
      "---  ------  --------------  ----- \n",
      " 0   review  10000 non-null  object\n",
      " 1   rating  10000 non-null  int64 \n",
      "dtypes: int64(1), object(1)\n",
      "memory usage: 156.4+ KB\n"
     ]
    }
   ],
   "source": [
    "df.info()"
   ]
  }
 ],
 "metadata": {
  "kernelspec": {
   "display_name": ".venv",
   "language": "python",
   "name": "python3"
  },
  "language_info": {
   "codemirror_mode": {
    "name": "ipython",
    "version": 3
   },
   "file_extension": ".py",
   "mimetype": "text/x-python",
   "name": "python",
   "nbconvert_exporter": "python",
   "pygments_lexer": "ipython3",
   "version": "3.10.6"
  }
 },
 "nbformat": 4,
 "nbformat_minor": 5
}
